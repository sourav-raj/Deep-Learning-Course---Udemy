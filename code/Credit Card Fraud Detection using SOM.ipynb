{
 "cells": [
  {
   "cell_type": "code",
   "execution_count": null,
   "metadata": {},
   "outputs": [],
   "source": [
    "# -*- coding: utf-8 -*-\n",
    "# Indentation: Jupyter Notebook\n",
    "\n",
    "'''\n",
    "som for fraud detection\n",
    "'''\n",
    "\n",
    "__version__ = 1.0\n",
    "__author__ = \"Sourav Raj\"\n",
    "__author_email__ = \"souravraj.iitbbs@gmail.com\"\n"
   ]
  },
  {
   "cell_type": "code",
   "execution_count": 1,
   "metadata": {
    "collapsed": true
   },
   "outputs": [],
   "source": [
    "# here we are using som for fraud detection\n",
    "# from customers of bank applying for advance credit card i.e. data provided by customer while\n",
    "# filling the application form & our aim is to detect fraud in this application\n"
   ]
  },
  {
   "cell_type": "code",
   "execution_count": 22,
   "metadata": {
    "collapsed": true
   },
   "outputs": [],
   "source": [
    "import numpy as np\n",
    "import pandas as pd\n",
    "import matplotlib.pyplot as plt\n",
    "%matplotlib inline"
   ]
  },
  {
   "cell_type": "code",
   "execution_count": 32,
   "metadata": {
    "collapsed": true
   },
   "outputs": [],
   "source": [
    "df = pd.read_csv('../data/Credit_Card_Applications.csv')"
   ]
  },
  {
   "cell_type": "code",
   "execution_count": 33,
   "metadata": {},
   "outputs": [
    {
     "data": {
      "text/html": [
       "<div>\n",
       "<style>\n",
       "    .dataframe thead tr:only-child th {\n",
       "        text-align: right;\n",
       "    }\n",
       "\n",
       "    .dataframe thead th {\n",
       "        text-align: left;\n",
       "    }\n",
       "\n",
       "    .dataframe tbody tr th {\n",
       "        vertical-align: top;\n",
       "    }\n",
       "</style>\n",
       "<table border=\"1\" class=\"dataframe\">\n",
       "  <thead>\n",
       "    <tr style=\"text-align: right;\">\n",
       "      <th></th>\n",
       "      <th>CustomerID</th>\n",
       "      <th>A1</th>\n",
       "      <th>A2</th>\n",
       "      <th>A3</th>\n",
       "      <th>A4</th>\n",
       "      <th>A5</th>\n",
       "      <th>A6</th>\n",
       "      <th>A7</th>\n",
       "      <th>A8</th>\n",
       "      <th>A9</th>\n",
       "      <th>A10</th>\n",
       "      <th>A11</th>\n",
       "      <th>A12</th>\n",
       "      <th>A13</th>\n",
       "      <th>A14</th>\n",
       "      <th>Class</th>\n",
       "    </tr>\n",
       "  </thead>\n",
       "  <tbody>\n",
       "    <tr>\n",
       "      <th>0</th>\n",
       "      <td>15776156</td>\n",
       "      <td>1</td>\n",
       "      <td>22.08</td>\n",
       "      <td>11.46</td>\n",
       "      <td>2</td>\n",
       "      <td>4</td>\n",
       "      <td>4</td>\n",
       "      <td>1.585</td>\n",
       "      <td>0</td>\n",
       "      <td>0</td>\n",
       "      <td>0</td>\n",
       "      <td>1</td>\n",
       "      <td>2</td>\n",
       "      <td>100</td>\n",
       "      <td>1213</td>\n",
       "      <td>0</td>\n",
       "    </tr>\n",
       "    <tr>\n",
       "      <th>1</th>\n",
       "      <td>15739548</td>\n",
       "      <td>0</td>\n",
       "      <td>22.67</td>\n",
       "      <td>7.00</td>\n",
       "      <td>2</td>\n",
       "      <td>8</td>\n",
       "      <td>4</td>\n",
       "      <td>0.165</td>\n",
       "      <td>0</td>\n",
       "      <td>0</td>\n",
       "      <td>0</td>\n",
       "      <td>0</td>\n",
       "      <td>2</td>\n",
       "      <td>160</td>\n",
       "      <td>1</td>\n",
       "      <td>0</td>\n",
       "    </tr>\n",
       "    <tr>\n",
       "      <th>2</th>\n",
       "      <td>15662854</td>\n",
       "      <td>0</td>\n",
       "      <td>29.58</td>\n",
       "      <td>1.75</td>\n",
       "      <td>1</td>\n",
       "      <td>4</td>\n",
       "      <td>4</td>\n",
       "      <td>1.250</td>\n",
       "      <td>0</td>\n",
       "      <td>0</td>\n",
       "      <td>0</td>\n",
       "      <td>1</td>\n",
       "      <td>2</td>\n",
       "      <td>280</td>\n",
       "      <td>1</td>\n",
       "      <td>0</td>\n",
       "    </tr>\n",
       "    <tr>\n",
       "      <th>3</th>\n",
       "      <td>15687688</td>\n",
       "      <td>0</td>\n",
       "      <td>21.67</td>\n",
       "      <td>11.50</td>\n",
       "      <td>1</td>\n",
       "      <td>5</td>\n",
       "      <td>3</td>\n",
       "      <td>0.000</td>\n",
       "      <td>1</td>\n",
       "      <td>1</td>\n",
       "      <td>11</td>\n",
       "      <td>1</td>\n",
       "      <td>2</td>\n",
       "      <td>0</td>\n",
       "      <td>1</td>\n",
       "      <td>1</td>\n",
       "    </tr>\n",
       "    <tr>\n",
       "      <th>4</th>\n",
       "      <td>15715750</td>\n",
       "      <td>1</td>\n",
       "      <td>20.17</td>\n",
       "      <td>8.17</td>\n",
       "      <td>2</td>\n",
       "      <td>6</td>\n",
       "      <td>4</td>\n",
       "      <td>1.960</td>\n",
       "      <td>1</td>\n",
       "      <td>1</td>\n",
       "      <td>14</td>\n",
       "      <td>0</td>\n",
       "      <td>2</td>\n",
       "      <td>60</td>\n",
       "      <td>159</td>\n",
       "      <td>1</td>\n",
       "    </tr>\n",
       "  </tbody>\n",
       "</table>\n",
       "</div>"
      ],
      "text/plain": [
       "   CustomerID  A1     A2     A3  A4  A5  A6     A7  A8  A9  A10  A11  A12  \\\n",
       "0    15776156   1  22.08  11.46   2   4   4  1.585   0   0    0    1    2   \n",
       "1    15739548   0  22.67   7.00   2   8   4  0.165   0   0    0    0    2   \n",
       "2    15662854   0  29.58   1.75   1   4   4  1.250   0   0    0    1    2   \n",
       "3    15687688   0  21.67  11.50   1   5   3  0.000   1   1   11    1    2   \n",
       "4    15715750   1  20.17   8.17   2   6   4  1.960   1   1   14    0    2   \n",
       "\n",
       "   A13   A14  Class  \n",
       "0  100  1213      0  \n",
       "1  160     1      0  \n",
       "2  280     1      0  \n",
       "3    0     1      1  \n",
       "4   60   159      1  "
      ]
     },
     "execution_count": 33,
     "metadata": {},
     "output_type": "execute_result"
    }
   ],
   "source": [
    "df.head()"
   ]
  },
  {
   "cell_type": "code",
   "execution_count": 34,
   "metadata": {
    "collapsed": true
   },
   "outputs": [],
   "source": [
    "# all the customer are input to our neural network. these input points are mapped in new output\n",
    "# space and b/w the input space and output space we have neural network with neurons. \n",
    "# Each neuron is initialized as vector of weights with same size as customer\n",
    "# output is neuron closest to each customer & this neuron is called winning node\n",
    "# which is more similar to customer\n",
    "# we use gaussian neighbourhood like function to update the weight of neighbour of the winning \n",
    "# node to move node to customer and keep repeating\n",
    "# on each repeatation the output space reduces its dimension & stops to a point where neighbour \n",
    "# hood or output space stops decreasing and we will get SOM in 2D\n",
    "\n",
    "# fraud are detected as outliar neuron as it is far from general rule\n",
    "# to find out outliar neuron in som we find out mid (mean interneuron dist) i.e dist between a\n",
    "# neuron & its neighboor neuron. neighboor neuron is defined manually\n",
    "# ouliar dist will be more then this mid"
   ]
  },
  {
   "cell_type": "code",
   "execution_count": 35,
   "metadata": {
    "collapsed": true
   },
   "outputs": [],
   "source": [
    "X= df.iloc[:, :-1].values\n",
    "y=df.iloc[:,-1].values"
   ]
  },
  {
   "cell_type": "code",
   "execution_count": 36,
   "metadata": {},
   "outputs": [
    {
     "data": {
      "text/plain": [
       "array([[  1.57761560e+07,   1.00000000e+00,   2.20800000e+01, ...,\n",
       "          2.00000000e+00,   1.00000000e+02,   1.21300000e+03],\n",
       "       [  1.57395480e+07,   0.00000000e+00,   2.26700000e+01, ...,\n",
       "          2.00000000e+00,   1.60000000e+02,   1.00000000e+00],\n",
       "       [  1.56628540e+07,   0.00000000e+00,   2.95800000e+01, ...,\n",
       "          2.00000000e+00,   2.80000000e+02,   1.00000000e+00],\n",
       "       ..., \n",
       "       [  1.56754500e+07,   0.00000000e+00,   1.88300000e+01, ...,\n",
       "          2.00000000e+00,   1.00000000e+02,   1.00000000e+00],\n",
       "       [  1.57764940e+07,   0.00000000e+00,   2.74200000e+01, ...,\n",
       "          2.00000000e+00,   1.20000000e+02,   1.20000000e+01],\n",
       "       [  1.55924120e+07,   1.00000000e+00,   4.10000000e+01, ...,\n",
       "          1.00000000e+00,   5.60000000e+02,   1.00000000e+00]])"
      ]
     },
     "execution_count": 36,
     "metadata": {},
     "output_type": "execute_result"
    }
   ],
   "source": [
    "X"
   ]
  },
  {
   "cell_type": "code",
   "execution_count": 37,
   "metadata": {
    "scrolled": true
   },
   "outputs": [
    {
     "data": {
      "text/plain": [
       "array([0, 0, 0, 1, 1, 1, 0, 1, 0, 0, 1, 1, 0, 1, 0, 1, 1, 1, 0, 1, 0, 0, 0,\n",
       "       0, 0, 1, 0, 1, 1, 1, 1, 0, 0, 1, 0, 0, 1, 1, 1, 1, 1, 0, 1, 0, 0, 1,\n",
       "       0, 1, 0, 1, 0, 0, 0, 0, 0, 1, 1, 0, 1, 1, 0, 0, 1, 0, 1, 1, 0, 0, 0,\n",
       "       1, 0, 0, 0, 1, 1, 0, 0, 0, 0, 1, 1, 0, 0, 0, 0, 1, 0, 1, 1, 0, 0, 0,\n",
       "       0, 1, 0, 1, 0, 0, 0, 1, 0, 1, 1, 1, 0, 1, 1, 0, 1, 0, 0, 0, 0, 1, 0,\n",
       "       1, 1, 1, 1, 1, 1, 0, 0, 1, 1, 0, 1, 0, 1, 1, 1, 0, 0, 0, 0, 0, 0, 1,\n",
       "       1, 1, 0, 0, 0, 1, 0, 1, 1, 0, 0, 1, 1, 0, 0, 0, 1, 1, 1, 0, 1, 0, 0,\n",
       "       0, 1, 1, 0, 0, 0, 1, 0, 0, 0, 1, 0, 0, 1, 0, 0, 0, 1, 1, 0, 0, 1, 1,\n",
       "       1, 0, 0, 0, 0, 0, 0, 1, 0, 0, 0, 1, 1, 0, 0, 0, 1, 0, 1, 0, 1, 1, 0,\n",
       "       0, 0, 0, 1, 1, 0, 0, 0, 1, 0, 0, 0, 1, 1, 0, 1, 0, 0, 0, 0, 1, 1, 1,\n",
       "       1, 0, 0, 1, 1, 1, 0, 0, 0, 1, 1, 1, 1, 0, 0, 0, 0, 1, 1, 1, 0, 0, 1,\n",
       "       0, 1, 1, 1, 1, 0, 0, 0, 1, 0, 1, 1, 0, 0, 1, 0, 0, 0, 1, 0, 1, 1, 0,\n",
       "       0, 0, 1, 1, 0, 0, 0, 0, 0, 1, 1, 1, 0, 0, 0, 0, 1, 1, 1, 0, 0, 0, 1,\n",
       "       0, 1, 0, 0, 0, 0, 1, 0, 1, 0, 0, 0, 0, 0, 1, 1, 0, 0, 1, 0, 1, 1, 1,\n",
       "       1, 1, 1, 1, 0, 0, 0, 0, 1, 1, 1, 0, 0, 0, 1, 0, 1, 0, 0, 0, 1, 1, 1,\n",
       "       1, 1, 1, 1, 0, 1, 0, 1, 0, 0, 0, 0, 0, 1, 0, 1, 1, 0, 0, 0, 0, 0, 1,\n",
       "       0, 1, 1, 0, 0, 0, 1, 1, 1, 0, 0, 1, 1, 0, 0, 0, 1, 1, 0, 1, 1, 1, 1,\n",
       "       0, 0, 1, 1, 0, 0, 0, 0, 0, 0, 1, 0, 0, 0, 1, 1, 0, 1, 0, 0, 0, 1, 1,\n",
       "       1, 0, 0, 1, 0, 1, 1, 1, 0, 1, 0, 0, 1, 0, 0, 0, 1, 0, 0, 1, 0, 1, 0,\n",
       "       1, 1, 0, 1, 0, 0, 1, 0, 1, 1, 0, 0, 0, 0, 0, 1, 1, 0, 0, 1, 1, 0, 1,\n",
       "       0, 1, 0, 1, 0, 1, 1, 0, 1, 0, 1, 1, 1, 0, 0, 0, 0, 0, 1, 0, 1, 0, 0,\n",
       "       0, 1, 1, 1, 1, 1, 0, 1, 1, 0, 0, 0, 1, 1, 1, 1, 1, 1, 0, 1, 1, 1, 1,\n",
       "       0, 0, 0, 0, 0, 0, 0, 1, 0, 0, 1, 1, 1, 0, 1, 0, 0, 1, 1, 0, 1, 0, 0,\n",
       "       0, 0, 0, 0, 1, 0, 1, 0, 1, 1, 1, 0, 0, 1, 0, 0, 0, 0, 0, 0, 0, 1, 1,\n",
       "       0, 0, 0, 0, 0, 1, 0, 1, 0, 1, 0, 0, 1, 1, 1, 0, 0, 0, 0, 0, 1, 0, 1,\n",
       "       1, 0, 0, 0, 0, 0, 1, 1, 1, 0, 1, 0, 1, 1, 0, 0, 1, 0, 1, 0, 0, 1, 1,\n",
       "       0, 1, 0, 1, 1, 1, 1, 0, 0, 1, 0, 1, 1, 0, 1, 0, 1, 1, 0, 0, 0, 1, 0,\n",
       "       1, 1, 0, 1, 0, 0, 0, 0, 0, 1, 0, 1, 0, 0, 0, 0, 0, 0, 1, 0, 1, 1, 0,\n",
       "       0, 0, 0, 0, 0, 1, 1, 0, 0, 1, 0, 0, 1, 0, 0, 1, 1, 0, 1, 1, 0, 0, 0,\n",
       "       0, 0, 0, 1, 1, 0, 1, 1, 0, 0, 0, 0, 1, 0, 0, 1, 0, 1, 1, 0, 1, 1, 1], dtype=int64)"
      ]
     },
     "execution_count": 37,
     "metadata": {},
     "output_type": "execute_result"
    }
   ],
   "source": [
    "y"
   ]
  },
  {
   "cell_type": "code",
   "execution_count": 38,
   "metadata": {
    "collapsed": true
   },
   "outputs": [],
   "source": [
    "# feature Scaling\n",
    "from sklearn.preprocessing import MinMaxScaler\n",
    "sc = MinMaxScaler(feature_range=(0,1))\n",
    "X = sc.fit_transform(X)"
   ]
  },
  {
   "cell_type": "code",
   "execution_count": 39,
   "metadata": {},
   "outputs": [
    {
     "data": {
      "text/plain": [
       "array([[  8.42681467e-01,   1.00000000e+00,   1.25263158e-01, ...,\n",
       "          5.00000000e-01,   5.00000000e-02,   1.21200000e-02],\n",
       "       [  6.96090562e-01,   0.00000000e+00,   1.34135338e-01, ...,\n",
       "          5.00000000e-01,   8.00000000e-02,   0.00000000e+00],\n",
       "       [  3.88981656e-01,   0.00000000e+00,   2.38045113e-01, ...,\n",
       "          5.00000000e-01,   1.40000000e-01,   0.00000000e+00],\n",
       "       ..., \n",
       "       [  4.39420332e-01,   0.00000000e+00,   7.63909774e-02, ...,\n",
       "          5.00000000e-01,   5.00000000e-02,   0.00000000e+00],\n",
       "       [  8.44034934e-01,   0.00000000e+00,   2.05563910e-01, ...,\n",
       "          5.00000000e-01,   6.00000000e-02,   1.10000000e-04],\n",
       "       [  1.06907888e-01,   1.00000000e+00,   4.09774436e-01, ...,\n",
       "          0.00000000e+00,   2.80000000e-01,   0.00000000e+00]])"
      ]
     },
     "execution_count": 39,
     "metadata": {},
     "output_type": "execute_result"
    }
   ],
   "source": [
    "X"
   ]
  },
  {
   "cell_type": "code",
   "execution_count": 40,
   "metadata": {},
   "outputs": [],
   "source": [
    "# Training the SOM\n",
    "# we use MiniSOM lib to implement SOM as sklearn doesn't have SOM\n",
    "# Also make sure we included minisom.py file is same directory as our code is\n",
    "\n",
    "from minisom import MiniSom\n",
    "#input_len = no of feature in input\n",
    "# x,y : no of dim in som \n",
    "som = MiniSom(x=10, y=10, input_len= 15, sigma=1.0, learning_rate=0.5)"
   ]
  },
  {
   "cell_type": "code",
   "execution_count": 41,
   "metadata": {
    "collapsed": true
   },
   "outputs": [],
   "source": [
    "# initialize weight with values close to 0\n",
    "som.random_weights_init(X)"
   ]
  },
  {
   "cell_type": "code",
   "execution_count": 42,
   "metadata": {
    "collapsed": true
   },
   "outputs": [],
   "source": [
    "som.train_random(data=X, num_iteration=100)"
   ]
  },
  {
   "cell_type": "code",
   "execution_count": 43,
   "metadata": {
    "collapsed": true
   },
   "outputs": [],
   "source": [
    "# Visualizing the results\n",
    "from pylab import bone, pcolor, colorbar, plot, show"
   ]
  },
  {
   "cell_type": "code",
   "execution_count": 44,
   "metadata": {},
   "outputs": [
    {
     "data": {
      "text/plain": [
       "<matplotlib.figure.Figure at 0xb854da0>"
      ]
     },
     "metadata": {},
     "output_type": "display_data"
    }
   ],
   "source": [
    "bone() # create white object"
   ]
  },
  {
   "cell_type": "code",
   "execution_count": 24,
   "metadata": {},
   "outputs": [
    {
     "data": {
      "text/plain": [
       "array([[ 0.33594236,  0.5341713 ,  0.67904114,  0.5310721 ,  0.44799376,\n",
       "         0.41910576,  0.54507466,  0.47996509,  0.27565264,  0.12286154],\n",
       "       [ 0.48215831,  0.75797598,  0.80834584,  0.93686556,  0.80420502,\n",
       "         0.59622862,  0.82698476,  0.83470323,  0.50937377,  0.32231218],\n",
       "       [ 0.35087344,  0.56571731,  0.60837277,  0.8495158 ,  0.92123403,\n",
       "         0.67008721,  0.85439144,  0.88875825,  0.72520419,  0.35717095],\n",
       "       [ 0.32890061,  0.53802454,  0.69487435,  0.81149802,  0.97938182,\n",
       "         0.88882826,  0.90836233,  0.78106391,  0.68578287,  0.45502048],\n",
       "       [ 0.45633063,  0.77747995,  0.80877787,  1.        ,  0.96591851,\n",
       "         0.82065879,  0.78816718,  0.80246529,  0.77302119,  0.45169357],\n",
       "       [ 0.59099104,  0.8318744 ,  0.89004256,  0.82173048,  0.69619549,\n",
       "         0.73828197,  0.76912695,  0.92063596,  0.84312445,  0.55274563],\n",
       "       [ 0.47498128,  0.7266156 ,  0.61085851,  0.53541971,  0.53230737,\n",
       "         0.62182556,  0.86970897,  0.93983543,  0.93015779,  0.60340249],\n",
       "       [ 0.37415898,  0.5593734 ,  0.44542684,  0.49846599,  0.63885854,\n",
       "         0.75290936,  0.8039183 ,  0.88345223,  0.92680503,  0.43587944],\n",
       "       [ 0.42765862,  0.63791993,  0.51648861,  0.56616805,  0.7159157 ,\n",
       "         0.7466497 ,  0.58062042,  0.73607288,  0.71785783,  0.3886247 ],\n",
       "       [ 0.36948296,  0.56774274,  0.36191953,  0.49193512,  0.44695869,\n",
       "         0.36054801,  0.26989827,  0.43561135,  0.46545866,  0.20233338]])"
      ]
     },
     "execution_count": 24,
     "metadata": {},
     "output_type": "execute_result"
    }
   ],
   "source": [
    "som.distance_map()"
   ]
  },
  {
   "cell_type": "code",
   "execution_count": 27,
   "metadata": {},
   "outputs": [
    {
     "data": {
      "text/plain": [
       "<matplotlib.colorbar.Colorbar at 0xa2f79b0>"
      ]
     },
     "execution_count": 27,
     "metadata": {},
     "output_type": "execute_result"
    },
    {
     "data": {
      "image/png": "[encoded data removed]",
      "text/plain": [
       "<matplotlib.figure.Figure at 0x9939ac8>"
      ]
     },
     "metadata": {},
     "output_type": "display_data"
    }
   ],
   "source": [
    "pcolor(som.distance_map().T)\n",
    "colorbar()"
   ]
  },
  {
   "cell_type": "code",
   "execution_count": 29,
   "metadata": {},
   "outputs": [
    {
     "data": {
      "image/png": "[encoded data removed]",
      "text/plain": [
       "<matplotlib.figure.Figure at 0xa4831d0>"
      ]
     },
     "metadata": {},
     "output_type": "display_data"
    }
   ],
   "source": [
    "# red - customer who didn't get approval\n",
    "# green = customer who got approval\n",
    "markers=['o', 's']\n",
    "colors=['r', 'g']\n",
    "for i,x in enumerate(X):\n",
    "    w=som.winner(x)\n",
    "    # to place marker at centre\n",
    "    plot(w[0]+0.5, w[1]+0.5, markers[y[i]],\n",
    "        markeredgecolor = colors[y[i]], markerfacecolor='None',\n",
    "        markersize=10, markeredgewidth=2) \n",
    "show()\n",
    "    "
   ]
  },
  {
   "cell_type": "code",
   "execution_count": 45,
   "metadata": {},
   "outputs": [
    {
     "data": {
      "image/png": "[encoded data removed]",
      "text/plain": [
       "<matplotlib.figure.Figure at 0xb85be10>"
      ]
     },
     "metadata": {},
     "output_type": "display_data"
    }
   ],
   "source": [
    "pcolor(som.distance_map().T)\n",
    "colorbar()\n",
    "# red - customer who didn't get approval\n",
    "# green = customer who got approval\n",
    "markers=['o', 's']\n",
    "colors=['r', 'g']\n",
    "for i,x in enumerate(X):\n",
    "    w=som.winner(x)\n",
    "    # to place marker at centre\n",
    "    plot(w[0]+0.5, w[1]+0.5, markers[y[i]],\n",
    "        markeredgecolor = colors[y[i]], markerfacecolor='None',\n",
    "        markersize=10, markeredgewidth=2) \n",
    "show()"
   ]
  },
  {
   "cell_type": "code",
   "execution_count": 46,
   "metadata": {
    "collapsed": true
   },
   "outputs": [],
   "source": [
    "# Finding the frauds\n",
    "mappings = som.win_map(X)"
   ]
  },
  {
   "cell_type": "code",
   "execution_count": 50,
   "metadata": {},
   "outputs": [],
   "source": [
    "frauds= mappings[(8,2)]"
   ]
  },
  {
   "cell_type": "code",
   "execution_count": 51,
   "metadata": {
    "collapsed": true
   },
   "outputs": [
    {
     "data": {
      "text/plain": [
       "[array([ 0.80274618,  0.        ,  0.16165414,  0.01785714,  0.5       ,\n",
       "         0.76923077,  0.875     ,  0.05263158,  1.        ,  0.        ,\n",
       "         0.        ,  0.        ,  0.5       ,  0.14      ,  0.00824   ]),\n",
       " array([ 0.47654858,  0.        ,  0.20932331,  0.05357143,  0.5       ,\n",
       "         0.46153846,  0.375     ,  0.07017544,  1.        ,  0.        ,\n",
       "         0.        ,  0.        ,  0.        ,  0.184     ,  0.        ]),\n",
       " array([ 0.82735685,  0.        ,  0.21548872,  0.53571429,  0.        ,\n",
       "         0.69230769,  1.        ,  0.        ,  1.        ,  0.        ,\n",
       "         0.        ,  0.        ,  0.5       ,  0.        ,  0.13212   ]),\n",
       " array([ 0.32182085,  0.        ,  0.07639098,  0.15767857,  0.        ,\n",
       "         0.53846154,  0.875     ,  0.10526316,  1.        ,  0.        ,\n",
       "         0.        ,  0.        ,  0.5       ,  0.12      ,  0.        ]),\n",
       " array([ 0.76672713,  0.        ,  0.10646617,  0.10714286,  0.5       ,\n",
       "         0.38461538,  0.375     ,  0.00140351,  1.        ,  0.        ,\n",
       "         0.        ,  0.        ,  0.5       ,  0.05      ,  0.        ]),\n",
       " array([ 0.15545651,  0.        ,  0.10150376,  0.42267857,  0.5       ,\n",
       "         0.53846154,  0.875     ,  0.21052632,  1.        ,  0.        ,\n",
       "         0.        ,  0.        ,  0.5       ,  0.17      ,  0.        ]),\n",
       " array([ 0.27983935,  0.        ,  0.16285714,  0.02392857,  0.5       ,\n",
       "         0.38461538,  0.875     ,  0.06140351,  1.        ,  0.        ,\n",
       "         0.        ,  0.        ,  0.5       ,  0.2       ,  0.        ]),\n",
       " array([ 0.84423916,  0.        ,  0.16917293,  0.39285714,  0.        ,\n",
       "         0.38461538,  0.375     ,  0.15789474,  1.        ,  0.        ,\n",
       "         0.        ,  0.        ,  0.5       ,  0.06      ,  0.        ]),\n",
       " array([ 0.23087026,  0.        ,  0.45984962,  0.        ,  0.5       ,\n",
       "         0.53846154,  0.375     ,  0.0877193 ,  1.        ,  0.        ,\n",
       "         0.        ,  0.        ,  0.5       ,  0.        ,  0.        ]),\n",
       " array([ 0.91371847,  0.        ,  0.2206015 ,  0.125     ,  0.5       ,\n",
       "         0.61538462,  0.375     ,  0.02929825,  1.        ,  0.        ,\n",
       "         0.        ,  0.        ,  0.        ,  0.14      ,  0.        ]),\n",
       " array([ 0.33987643,  0.        ,  0.18541353,  0.30946429,  0.5       ,\n",
       "         0.38461538,  0.375     ,  0.04964912,  1.        ,  0.        ,\n",
       "         0.        ,  0.        ,  0.5       ,  0.08      ,  0.0015    ]),\n",
       " array([ 0.43942033,  0.        ,  0.07639098,  0.34071429,  0.5       ,\n",
       "         0.38461538,  0.375     ,  0.00298246,  1.        ,  0.        ,\n",
       "         0.        ,  0.        ,  0.5       ,  0.05      ,  0.        ])]"
      ]
     },
     "execution_count": 51,
     "metadata": {},
     "output_type": "execute_result"
    }
   ],
   "source": [
    "frauds"
   ]
  },
  {
   "cell_type": "code",
   "execution_count": 53,
   "metadata": {},
   "outputs": [],
   "source": [
    "frauds= np.concatenate((mappings[(8,2)], mappings[(6, 8)]), axis = 0)"
   ]
  },
  {
   "cell_type": "code",
   "execution_count": 54,
   "metadata": {},
   "outputs": [
    {
     "data": {
      "text/plain": [
       "array([[  8.02746177e-01,   0.00000000e+00,   1.61654135e-01,\n",
       "          1.78571429e-02,   5.00000000e-01,   7.69230769e-01,\n",
       "          8.75000000e-01,   5.26315789e-02,   1.00000000e+00,\n",
       "          0.00000000e+00,   0.00000000e+00,   0.00000000e+00,\n",
       "          5.00000000e-01,   1.40000000e-01,   8.24000000e-03],\n",
       "       [  4.76548579e-01,   0.00000000e+00,   2.09323308e-01,\n",
       "          5.35714286e-02,   5.00000000e-01,   4.61538462e-01,\n",
       "          3.75000000e-01,   7.01754386e-02,   1.00000000e+00,\n",
       "          0.00000000e+00,   0.00000000e+00,   0.00000000e+00,\n",
       "          0.00000000e+00,   1.84000000e-01,   0.00000000e+00],\n",
       "       [  8.27356855e-01,   0.00000000e+00,   2.15488722e-01,\n",
       "          5.35714286e-01,   0.00000000e+00,   6.92307692e-01,\n",
       "          1.00000000e+00,   0.00000000e+00,   1.00000000e+00,\n",
       "          0.00000000e+00,   0.00000000e+00,   0.00000000e+00,\n",
       "          5.00000000e-01,   0.00000000e+00,   1.32120000e-01],\n",
       "       [  3.21820854e-01,   0.00000000e+00,   7.63909774e-02,\n",
       "          1.57678571e-01,   0.00000000e+00,   5.38461538e-01,\n",
       "          8.75000000e-01,   1.05263158e-01,   1.00000000e+00,\n",
       "          0.00000000e+00,   0.00000000e+00,   0.00000000e+00,\n",
       "          5.00000000e-01,   1.20000000e-01,   0.00000000e+00],\n",
       "       [  7.66727132e-01,   0.00000000e+00,   1.06466165e-01,\n",
       "          1.07142857e-01,   5.00000000e-01,   3.84615385e-01,\n",
       "          3.75000000e-01,   1.40350877e-03,   1.00000000e+00,\n",
       "          0.00000000e+00,   0.00000000e+00,   0.00000000e+00,\n",
       "          5.00000000e-01,   5.00000000e-02,   0.00000000e+00],\n",
       "       [  1.55456515e-01,   0.00000000e+00,   1.01503759e-01,\n",
       "          4.22678571e-01,   5.00000000e-01,   5.38461538e-01,\n",
       "          8.75000000e-01,   2.10526316e-01,   1.00000000e+00,\n",
       "          0.00000000e+00,   0.00000000e+00,   0.00000000e+00,\n",
       "          5.00000000e-01,   1.70000000e-01,   0.00000000e+00],\n",
       "       [  2.79839346e-01,   0.00000000e+00,   1.62857143e-01,\n",
       "          2.39285714e-02,   5.00000000e-01,   3.84615385e-01,\n",
       "          8.75000000e-01,   6.14035088e-02,   1.00000000e+00,\n",
       "          0.00000000e+00,   0.00000000e+00,   0.00000000e+00,\n",
       "          5.00000000e-01,   2.00000000e-01,   0.00000000e+00],\n",
       "       [  8.44239155e-01,   0.00000000e+00,   1.69172932e-01,\n",
       "          3.92857143e-01,   0.00000000e+00,   3.84615385e-01,\n",
       "          3.75000000e-01,   1.57894737e-01,   1.00000000e+00,\n",
       "          0.00000000e+00,   0.00000000e+00,   0.00000000e+00,\n",
       "          5.00000000e-01,   6.00000000e-02,   0.00000000e+00],\n",
       "       [  2.30870263e-01,   0.00000000e+00,   4.59849624e-01,\n",
       "          0.00000000e+00,   5.00000000e-01,   5.38461538e-01,\n",
       "          3.75000000e-01,   8.77192982e-02,   1.00000000e+00,\n",
       "          0.00000000e+00,   0.00000000e+00,   0.00000000e+00,\n",
       "          5.00000000e-01,   0.00000000e+00,   0.00000000e+00],\n",
       "       [  9.13718471e-01,   0.00000000e+00,   2.20601504e-01,\n",
       "          1.25000000e-01,   5.00000000e-01,   6.15384615e-01,\n",
       "          3.75000000e-01,   2.92982456e-02,   1.00000000e+00,\n",
       "          0.00000000e+00,   0.00000000e+00,   0.00000000e+00,\n",
       "          0.00000000e+00,   1.40000000e-01,   0.00000000e+00],\n",
       "       [  3.39876426e-01,   0.00000000e+00,   1.85413534e-01,\n",
       "          3.09464286e-01,   5.00000000e-01,   3.84615385e-01,\n",
       "          3.75000000e-01,   4.96491228e-02,   1.00000000e+00,\n",
       "          0.00000000e+00,   0.00000000e+00,   0.00000000e+00,\n",
       "          5.00000000e-01,   8.00000000e-02,   1.50000000e-03],\n",
       "       [  4.39420332e-01,   0.00000000e+00,   7.63909774e-02,\n",
       "          3.40714286e-01,   5.00000000e-01,   3.84615385e-01,\n",
       "          3.75000000e-01,   2.98245614e-03,   1.00000000e+00,\n",
       "          0.00000000e+00,   0.00000000e+00,   0.00000000e+00,\n",
       "          5.00000000e-01,   5.00000000e-02,   0.00000000e+00],\n",
       "       [  4.99173104e-01,   1.00000000e+00,   1.09022556e-01,\n",
       "          1.07142857e-01,   0.00000000e+00,   7.69230769e-02,\n",
       "          3.75000000e-01,   3.80701754e-02,   1.00000000e+00,\n",
       "          1.00000000e+00,   1.19402985e-01,   1.00000000e+00,\n",
       "          5.00000000e-01,   8.00000000e-02,   1.00000000e-05],\n",
       "       [  8.38993469e-01,   1.00000000e+00,   4.41052632e-01,\n",
       "          1.33928571e-02,   0.00000000e+00,   5.38461538e-01,\n",
       "          3.75000000e-01,   1.31578947e-02,   1.00000000e+00,\n",
       "          1.00000000e+00,   1.19402985e-01,   1.00000000e+00,\n",
       "          5.00000000e-01,   1.50000000e-01,   1.62000000e-03],\n",
       "       [  8.58426534e-01,   1.00000000e+00,   3.12030075e-01,\n",
       "          1.44285714e-01,   0.00000000e+00,   1.53846154e-01,\n",
       "          5.00000000e-01,   2.98245614e-01,   1.00000000e+00,\n",
       "          1.00000000e+00,   1.04477612e-01,   1.00000000e+00,\n",
       "          5.00000000e-01,   9.75000000e-02,   0.00000000e+00],\n",
       "       [  2.93418065e-01,   1.00000000e+00,   1.69172932e-01,\n",
       "          4.28571429e-01,   5.00000000e-01,   2.30769231e-01,\n",
       "          3.75000000e-01,   7.89473684e-02,   1.00000000e+00,\n",
       "          1.00000000e+00,   2.98507463e-02,   1.00000000e+00,\n",
       "          5.00000000e-01,   6.00000000e-02,   5.00000000e-05],\n",
       "       [  6.49888479e-01,   1.00000000e+00,   6.96691729e-01,\n",
       "          5.17857143e-01,   5.00000000e-01,   0.00000000e+00,\n",
       "          0.00000000e+00,   6.31578947e-01,   1.00000000e+00,\n",
       "          1.00000000e+00,   2.23880597e-01,   1.00000000e+00,\n",
       "          5.00000000e-01,   0.00000000e+00,   1.00000000e-02],\n",
       "       [  3.90343132e-01,   1.00000000e+00,   2.14285714e-01,\n",
       "          7.14285714e-02,   5.00000000e-01,   2.30769231e-01,\n",
       "          8.75000000e-01,   1.46140351e-01,   1.00000000e+00,\n",
       "          1.00000000e+00,   2.98507463e-02,   1.00000000e+00,\n",
       "          5.00000000e-01,   9.05000000e-02,   0.00000000e+00],\n",
       "       [  4.94752312e-01,   1.00000000e+00,   6.13984962e-01,\n",
       "          3.36250000e-01,   5.00000000e-01,   0.00000000e+00,\n",
       "          0.00000000e+00,   5.05789474e-01,   1.00000000e+00,\n",
       "          1.00000000e+00,   1.64179104e-01,   1.00000000e+00,\n",
       "          5.00000000e-01,   1.50000000e-02,   3.00000000e-03],\n",
       "       [  7.39849997e-01,   1.00000000e+00,   3.44661654e-01,\n",
       "          1.57678571e-01,   0.00000000e+00,   2.30769231e-01,\n",
       "          3.75000000e-01,   8.77192982e-03,   1.00000000e+00,\n",
       "          1.00000000e+00,   1.49253731e-01,   1.00000000e+00,\n",
       "          5.00000000e-01,   1.60000000e-01,   0.00000000e+00],\n",
       "       [  8.94169279e-01,   1.00000000e+00,   2.07969925e-01,\n",
       "          7.28571429e-02,   0.00000000e+00,   3.84615385e-01,\n",
       "          3.75000000e-01,   7.01754386e-02,   1.00000000e+00,\n",
       "          1.00000000e+00,   4.47761194e-02,   1.00000000e+00,\n",
       "          5.00000000e-01,   1.85000000e-01,   5.60000000e-03]])"
      ]
     },
     "execution_count": 54,
     "metadata": {},
     "output_type": "execute_result"
    }
   ],
   "source": [
    "frauds"
   ]
  },
  {
   "cell_type": "code",
   "execution_count": 55,
   "metadata": {
    "collapsed": true
   },
   "outputs": [],
   "source": [
    "frauds = sc.inverse_transform(frauds)"
   ]
  },
  {
   "cell_type": "code",
   "execution_count": 58,
   "metadata": {},
   "outputs": [
    {
     "data": {
      "text/plain": [
       "array([  1.56847220e+07,   0.00000000e+00,   2.76700000e+01,\n",
       "         1.50000000e+00,   2.00000000e+00,   7.00000000e+00,\n",
       "         4.00000000e+00,   2.00000000e+00,   1.00000000e+00,\n",
       "         0.00000000e+00,   0.00000000e+00,   0.00000000e+00,\n",
       "         1.00000000e+00,   3.68000000e+02,   1.00000000e+00])"
      ]
     },
     "execution_count": 58,
     "metadata": {},
     "output_type": "execute_result"
    }
   ],
   "source": [
    "frauds[1]"
   ]
  },
  {
   "cell_type": "code",
   "execution_count": null,
   "metadata": {
    "collapsed": true
   },
   "outputs": [],
   "source": []
  }
 ],
 "metadata": {
  "kernelspec": {
   "display_name": "Python 3",
   "language": "python",
   "name": "python3"
  },
  "language_info": {
   "codemirror_mode": {
    "name": "ipython",
    "version": 3
   },
   "file_extension": ".py",
   "mimetype": "text/x-python",
   "name": "python",
   "nbconvert_exporter": "python",
   "pygments_lexer": "ipython3",
   "version": "3.7.4"
  }
 },
 "nbformat": 4,
 "nbformat_minor": 2
}
